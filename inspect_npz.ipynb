{
 "cells": [
  {
   "cell_type": "code",
   "execution_count": 2,
   "id": "34ea1586",
   "metadata": {},
   "outputs": [
    {
     "name": "stdout",
     "output_type": "stream",
     "text": [
      "Keys in the file: ['mel', 'fwod', 'meta']\n",
      "\n",
      "Array shapes:\n",
      "mel: (16539, 128, 16)\n",
      "fwod: (16539, 16)\n",
      "meta: (16539,)\n",
      "\n",
      "Number of examples: 16539\n",
      "\n",
      "Sample metadata: {'drummer': 'drummer1', 'style': 'funk/groove1', 'session': 'drummer1/eval_session', 'bpm_orig': 138.0, 'filename': 'drummer1/eval_session/1_funk-groove1_138_beat_4-4.wav', 'bar_index': 0}\n",
      "\n",
      "Examples summary:\n",
      "Example 0:\n",
      "  - Mel shape: (128, 16)\n",
      "  - FWOD shape: (16,)\n",
      "  - Style: funk/groove1\n",
      "  - BPM: 138.0\n",
      "  - Drummer: drummer1\n",
      "Example 1:\n",
      "  - Mel shape: (128, 16)\n",
      "  - FWOD shape: (16,)\n",
      "  - Style: funk/groove1\n",
      "  - BPM: 138.0\n",
      "  - Drummer: drummer1\n",
      "Example 2:\n",
      "  - Mel shape: (128, 16)\n",
      "  - FWOD shape: (16,)\n",
      "  - Style: funk/groove1\n",
      "  - BPM: 138.0\n",
      "  - Drummer: drummer1\n",
      "Example 3:\n",
      "  - Mel shape: (128, 16)\n",
      "  - FWOD shape: (16,)\n",
      "  - Style: funk/groove1\n",
      "  - BPM: 138.0\n",
      "  - Drummer: drummer1\n",
      "Example 4:\n",
      "  - Mel shape: (128, 16)\n",
      "  - FWOD shape: (16,)\n",
      "  - Style: funk/groove1\n",
      "  - BPM: 138.0\n",
      "  - Drummer: drummer1\n"
     ]
    }
   ],
   "source": [
    "import numpy as np\n",
    "\n",
    "# Load the NPZ file\n",
    "data_path = \"/Users/danielmartinezvillegas/Developer/master-ds/✨TDG/audio_pipeline/output/mel_fwod_dataset.npz\"\n",
    "data = np.load(data_path, allow_pickle=True)\n",
    "\n",
    "# Print the keys in the file\n",
    "print(\"Keys in the file:\", data.files)\n",
    "\n",
    "# Get the shapes of the arrays\n",
    "print(\"\\nArray shapes:\")\n",
    "for key in data.files:\n",
    "    print(f\"{key}: {data[key].shape}\")\n",
    "\n",
    "# Print number of examples\n",
    "num_examples = len(data['mel'])\n",
    "print(f\"\\nNumber of examples: {num_examples}\")\n",
    "\n",
    "# Examine the first example's metadata\n",
    "if 'meta' in data.files and len(data['meta']) > 0:\n",
    "    # Just print the metadata directly\n",
    "    print(\"\\nSample metadata:\", data['meta'][0])\n",
    "    \n",
    "    # Print information about a few examples\n",
    "    print(\"\\nExamples summary:\")\n",
    "    for i in range(min(5, num_examples)):\n",
    "        print(f\"Example {i}:\")\n",
    "        print(f\"  - Mel shape: {data['mel'][i].shape}\")\n",
    "        print(f\"  - FWOD shape: {data['fwod'][i].shape}\")\n",
    "        print(f\"  - Style: {data['meta'][i].get('style', 'Unknown')}\")\n",
    "        print(f\"  - BPM: {data['meta'][i].get('bpm_orig', 'Unknown')}\")\n",
    "        print(f\"  - Drummer: {data['meta'][i].get('drummer', 'Unknown')}\")\n"
   ]
  }
 ],
 "metadata": {
  "kernelspec": {
   "display_name": "personal",
   "language": "python",
   "name": "python3"
  },
  "language_info": {
   "codemirror_mode": {
    "name": "ipython",
    "version": 3
   },
   "file_extension": ".py",
   "mimetype": "text/x-python",
   "name": "python",
   "nbconvert_exporter": "python",
   "pygments_lexer": "ipython3",
   "version": "3.10.13"
  }
 },
 "nbformat": 4,
 "nbformat_minor": 5
}
