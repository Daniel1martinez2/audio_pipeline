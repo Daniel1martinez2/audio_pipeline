{
 "cells": [
  {
   "cell_type": "code",
   "execution_count": 1,
   "id": "4bf91f1c",
   "metadata": {},
   "outputs": [],
   "source": [
    "import pandas as pd"
   ]
  },
  {
   "cell_type": "code",
   "execution_count": 2,
   "id": "e3e65f70",
   "metadata": {},
   "outputs": [
    {
     "data": {
      "application/vnd.microsoft.datawrangler.viewer.v0+json": {
       "columns": [
        {
         "name": "index",
         "rawType": "int64",
         "type": "integer"
        },
        {
         "name": "drummer",
         "rawType": "object",
         "type": "string"
        },
        {
         "name": "session",
         "rawType": "object",
         "type": "string"
        },
        {
         "name": "id",
         "rawType": "object",
         "type": "string"
        },
        {
         "name": "style",
         "rawType": "object",
         "type": "string"
        },
        {
         "name": "bpm",
         "rawType": "int64",
         "type": "integer"
        },
        {
         "name": "beat_type",
         "rawType": "object",
         "type": "string"
        },
        {
         "name": "time_signature",
         "rawType": "object",
         "type": "string"
        },
        {
         "name": "midi_filename",
         "rawType": "object",
         "type": "string"
        },
        {
         "name": "audio_filename",
         "rawType": "object",
         "type": "string"
        },
        {
         "name": "duration",
         "rawType": "float64",
         "type": "float"
        },
        {
         "name": "split",
         "rawType": "object",
         "type": "string"
        }
       ],
       "ref": "ed712b81-1079-4014-af37-5a65ff50d579",
       "rows": [
        [
         "0",
         "drummer1",
         "drummer1/eval_session",
         "drummer1/eval_session/1",
         "funk/groove1",
         "138",
         "beat",
         "4-4",
         "drummer1/eval_session/1_funk-groove1_138_beat_4-4.mid",
         "drummer1/eval_session/1_funk-groove1_138_beat_4-4.wav",
         "27.872308",
         "test"
        ],
        [
         "1",
         "drummer1",
         "drummer1/eval_session",
         "drummer1/eval_session/10",
         "soul/groove10",
         "102",
         "beat",
         "4-4",
         "drummer1/eval_session/10_soul-groove10_102_beat_4-4.mid",
         "drummer1/eval_session/10_soul-groove10_102_beat_4-4.wav",
         "37.691158",
         "test"
        ],
        [
         "2",
         "drummer1",
         "drummer1/eval_session",
         "drummer1/eval_session/2",
         "funk/groove2",
         "105",
         "beat",
         "4-4",
         "drummer1/eval_session/2_funk-groove2_105_beat_4-4.mid",
         "drummer1/eval_session/2_funk-groove2_105_beat_4-4.wav",
         "36.351218",
         "test"
        ],
        [
         "3",
         "drummer1",
         "drummer1/eval_session",
         "drummer1/eval_session/3",
         "soul/groove3",
         "86",
         "beat",
         "4-4",
         "drummer1/eval_session/3_soul-groove3_86_beat_4-4.mid",
         "drummer1/eval_session/3_soul-groove3_86_beat_4-4.wav",
         "44.716543",
         "test"
        ],
        [
         "4",
         "drummer1",
         "drummer1/eval_session",
         "drummer1/eval_session/4",
         "soul/groove4",
         "80",
         "beat",
         "4-4",
         "drummer1/eval_session/4_soul-groove4_80_beat_4-4.mid",
         "drummer1/eval_session/4_soul-groove4_80_beat_4-4.wav",
         "47.9875",
         "test"
        ]
       ],
       "shape": {
        "columns": 11,
        "rows": 5
       }
      },
      "text/html": [
       "<div>\n",
       "<style scoped>\n",
       "    .dataframe tbody tr th:only-of-type {\n",
       "        vertical-align: middle;\n",
       "    }\n",
       "\n",
       "    .dataframe tbody tr th {\n",
       "        vertical-align: top;\n",
       "    }\n",
       "\n",
       "    .dataframe thead th {\n",
       "        text-align: right;\n",
       "    }\n",
       "</style>\n",
       "<table border=\"1\" class=\"dataframe\">\n",
       "  <thead>\n",
       "    <tr style=\"text-align: right;\">\n",
       "      <th></th>\n",
       "      <th>drummer</th>\n",
       "      <th>session</th>\n",
       "      <th>id</th>\n",
       "      <th>style</th>\n",
       "      <th>bpm</th>\n",
       "      <th>beat_type</th>\n",
       "      <th>time_signature</th>\n",
       "      <th>midi_filename</th>\n",
       "      <th>audio_filename</th>\n",
       "      <th>duration</th>\n",
       "      <th>split</th>\n",
       "    </tr>\n",
       "  </thead>\n",
       "  <tbody>\n",
       "    <tr>\n",
       "      <th>0</th>\n",
       "      <td>drummer1</td>\n",
       "      <td>drummer1/eval_session</td>\n",
       "      <td>drummer1/eval_session/1</td>\n",
       "      <td>funk/groove1</td>\n",
       "      <td>138</td>\n",
       "      <td>beat</td>\n",
       "      <td>4-4</td>\n",
       "      <td>drummer1/eval_session/1_funk-groove1_138_beat_...</td>\n",
       "      <td>drummer1/eval_session/1_funk-groove1_138_beat_...</td>\n",
       "      <td>27.872308</td>\n",
       "      <td>test</td>\n",
       "    </tr>\n",
       "    <tr>\n",
       "      <th>1</th>\n",
       "      <td>drummer1</td>\n",
       "      <td>drummer1/eval_session</td>\n",
       "      <td>drummer1/eval_session/10</td>\n",
       "      <td>soul/groove10</td>\n",
       "      <td>102</td>\n",
       "      <td>beat</td>\n",
       "      <td>4-4</td>\n",
       "      <td>drummer1/eval_session/10_soul-groove10_102_bea...</td>\n",
       "      <td>drummer1/eval_session/10_soul-groove10_102_bea...</td>\n",
       "      <td>37.691158</td>\n",
       "      <td>test</td>\n",
       "    </tr>\n",
       "    <tr>\n",
       "      <th>2</th>\n",
       "      <td>drummer1</td>\n",
       "      <td>drummer1/eval_session</td>\n",
       "      <td>drummer1/eval_session/2</td>\n",
       "      <td>funk/groove2</td>\n",
       "      <td>105</td>\n",
       "      <td>beat</td>\n",
       "      <td>4-4</td>\n",
       "      <td>drummer1/eval_session/2_funk-groove2_105_beat_...</td>\n",
       "      <td>drummer1/eval_session/2_funk-groove2_105_beat_...</td>\n",
       "      <td>36.351218</td>\n",
       "      <td>test</td>\n",
       "    </tr>\n",
       "    <tr>\n",
       "      <th>3</th>\n",
       "      <td>drummer1</td>\n",
       "      <td>drummer1/eval_session</td>\n",
       "      <td>drummer1/eval_session/3</td>\n",
       "      <td>soul/groove3</td>\n",
       "      <td>86</td>\n",
       "      <td>beat</td>\n",
       "      <td>4-4</td>\n",
       "      <td>drummer1/eval_session/3_soul-groove3_86_beat_4...</td>\n",
       "      <td>drummer1/eval_session/3_soul-groove3_86_beat_4...</td>\n",
       "      <td>44.716543</td>\n",
       "      <td>test</td>\n",
       "    </tr>\n",
       "    <tr>\n",
       "      <th>4</th>\n",
       "      <td>drummer1</td>\n",
       "      <td>drummer1/eval_session</td>\n",
       "      <td>drummer1/eval_session/4</td>\n",
       "      <td>soul/groove4</td>\n",
       "      <td>80</td>\n",
       "      <td>beat</td>\n",
       "      <td>4-4</td>\n",
       "      <td>drummer1/eval_session/4_soul-groove4_80_beat_4...</td>\n",
       "      <td>drummer1/eval_session/4_soul-groove4_80_beat_4...</td>\n",
       "      <td>47.987500</td>\n",
       "      <td>test</td>\n",
       "    </tr>\n",
       "  </tbody>\n",
       "</table>\n",
       "</div>"
      ],
      "text/plain": [
       "    drummer                session                        id          style  \\\n",
       "0  drummer1  drummer1/eval_session   drummer1/eval_session/1   funk/groove1   \n",
       "1  drummer1  drummer1/eval_session  drummer1/eval_session/10  soul/groove10   \n",
       "2  drummer1  drummer1/eval_session   drummer1/eval_session/2   funk/groove2   \n",
       "3  drummer1  drummer1/eval_session   drummer1/eval_session/3   soul/groove3   \n",
       "4  drummer1  drummer1/eval_session   drummer1/eval_session/4   soul/groove4   \n",
       "\n",
       "   bpm beat_type time_signature  \\\n",
       "0  138      beat            4-4   \n",
       "1  102      beat            4-4   \n",
       "2  105      beat            4-4   \n",
       "3   86      beat            4-4   \n",
       "4   80      beat            4-4   \n",
       "\n",
       "                                       midi_filename  \\\n",
       "0  drummer1/eval_session/1_funk-groove1_138_beat_...   \n",
       "1  drummer1/eval_session/10_soul-groove10_102_bea...   \n",
       "2  drummer1/eval_session/2_funk-groove2_105_beat_...   \n",
       "3  drummer1/eval_session/3_soul-groove3_86_beat_4...   \n",
       "4  drummer1/eval_session/4_soul-groove4_80_beat_4...   \n",
       "\n",
       "                                      audio_filename   duration split  \n",
       "0  drummer1/eval_session/1_funk-groove1_138_beat_...  27.872308  test  \n",
       "1  drummer1/eval_session/10_soul-groove10_102_bea...  37.691158  test  \n",
       "2  drummer1/eval_session/2_funk-groove2_105_beat_...  36.351218  test  \n",
       "3  drummer1/eval_session/3_soul-groove3_86_beat_4...  44.716543  test  \n",
       "4  drummer1/eval_session/4_soul-groove4_80_beat_4...  47.987500  test  "
      ]
     },
     "execution_count": 2,
     "metadata": {},
     "output_type": "execute_result"
    }
   ],
   "source": [
    "df =  pd.read_csv('/Users/danielmartinezvillegas/Developer/master-ds/✨TDG/audio_pipeline/data/info_clean.csv')\n",
    "df.head()"
   ]
  },
  {
   "cell_type": "code",
   "execution_count": 3,
   "id": "e374f712",
   "metadata": {},
   "outputs": [
    {
     "data": {
      "text/html": [
       "<pre style=\"white-space:pre;overflow-x:auto;line-height:normal;font-family:Menlo,'DejaVu Sans Mono',consolas,'Courier New',monospace\">╭──────────────────────────────────────────────── skimpy summary ─────────────────────────────────────────────────╮\n",
       "│ <span style=\"font-style: italic\">         Data Summary         </span> <span style=\"font-style: italic\">      Data Types       </span>                                                          │\n",
       "│ ┏━━━━━━━━━━━━━━━━━━━┳━━━━━━━━┓ ┏━━━━━━━━━━━━━┳━━━━━━━┓                                                          │\n",
       "│ ┃<span style=\"color: #008080; text-decoration-color: #008080; font-weight: bold\"> Dataframe         </span>┃<span style=\"color: #008080; text-decoration-color: #008080; font-weight: bold\"> Values </span>┃ ┃<span style=\"color: #008080; text-decoration-color: #008080; font-weight: bold\"> Column Type </span>┃<span style=\"color: #008080; text-decoration-color: #008080; font-weight: bold\"> Count </span>┃                                                          │\n",
       "│ ┡━━━━━━━━━━━━━━━━━━━╇━━━━━━━━┩ ┡━━━━━━━━━━━━━╇━━━━━━━┩                                                          │\n",
       "│ │ Number of rows    │ 1090   │ │ int64       │ 1     │                                                          │\n",
       "│ │ Number of columns │ 3      │ │ string      │ 1     │                                                          │\n",
       "│ └───────────────────┴────────┘ │ float64     │ 1     │                                                          │\n",
       "│                                └─────────────┴───────┘                                                          │\n",
       "│ <span style=\"font-style: italic\">                                                    number                                                    </span>  │\n",
       "│ ┏━━━━━━━━━━━━━┳━━━━━━┳━━━━━━━━┳━━━━━━━━━┳━━━━━━━━━┳━━━━━━━━━━┳━━━━━━━━━┳━━━━━━━━━┳━━━━━━━━┳━━━━━━━━┳━━━━━━━━━┓  │\n",
       "│ ┃<span style=\"font-weight: bold\"> column      </span>┃<span style=\"font-weight: bold\"> NA   </span>┃<span style=\"font-weight: bold\"> NA %   </span>┃<span style=\"font-weight: bold\"> mean    </span>┃<span style=\"font-weight: bold\"> sd      </span>┃<span style=\"font-weight: bold\"> p0       </span>┃<span style=\"font-weight: bold\"> p25     </span>┃<span style=\"font-weight: bold\"> p50     </span>┃<span style=\"font-weight: bold\"> p75    </span>┃<span style=\"font-weight: bold\"> p100   </span>┃<span style=\"font-weight: bold\"> hist    </span>┃  │\n",
       "│ ┡━━━━━━━━━━━━━╇━━━━━━╇━━━━━━━━╇━━━━━━━━━╇━━━━━━━━━╇━━━━━━━━━━╇━━━━━━━━━╇━━━━━━━━━╇━━━━━━━━╇━━━━━━━━╇━━━━━━━━━┩  │\n",
       "│ │ <span style=\"color: #af87ff; text-decoration-color: #af87ff\">bpm        </span> │ <span style=\"color: #008080; text-decoration-color: #008080\">   0</span> │ <span style=\"color: #008080; text-decoration-color: #008080\">     0</span> │ <span style=\"color: #008080; text-decoration-color: #008080\">  109.6</span> │ <span style=\"color: #008080; text-decoration-color: #008080\">  24.34</span> │ <span style=\"color: #008080; text-decoration-color: #008080\">      50</span> │ <span style=\"color: #008080; text-decoration-color: #008080\">     94</span> │ <span style=\"color: #008080; text-decoration-color: #008080\">    110</span> │ <span style=\"color: #008080; text-decoration-color: #008080\">   124</span> │ <span style=\"color: #008080; text-decoration-color: #008080\">   290</span> │ <span style=\"color: #008000; text-decoration-color: #008000\">  ▂█▂  </span> │  │\n",
       "│ │ <span style=\"color: #af87ff; text-decoration-color: #af87ff\">duration   </span> │ <span style=\"color: #008080; text-decoration-color: #008080\">   0</span> │ <span style=\"color: #008080; text-decoration-color: #008080\">     0</span> │ <span style=\"color: #008080; text-decoration-color: #008080\">  35.53</span> │ <span style=\"color: #008080; text-decoration-color: #008080\">  67.07</span> │ <span style=\"color: #008080; text-decoration-color: #008080\">  0.6799</span> │ <span style=\"color: #008080; text-decoration-color: #008080\">  1.975</span> │ <span style=\"color: #008080; text-decoration-color: #008080\">  3.464</span> │ <span style=\"color: #008080; text-decoration-color: #008080\">  36.4</span> │ <span style=\"color: #008080; text-decoration-color: #008080\"> 611.6</span> │ <span style=\"color: #008000; text-decoration-color: #008000\">  █▁   </span> │  │\n",
       "│ └─────────────┴──────┴────────┴─────────┴─────────┴──────────┴─────────┴─────────┴────────┴────────┴─────────┘  │\n",
       "│ <span style=\"font-style: italic\">                                                    string                                                    </span>  │\n",
       "│ ┏━━━━━━━━━━━━━━━━━┳━━━━┳━━━━━━┳━━━━━━━━━━┳━━━━━━━━━┳━━━━━┳━━━━━┳━━━━━━━━━━━━━━━┳━━━━━━━━━━━━━━━┳━━━━━━━━━━━━━┓  │\n",
       "│ ┃<span style=\"font-weight: bold\"> column          </span>┃<span style=\"font-weight: bold\"> NA </span>┃<span style=\"font-weight: bold\"> NA % </span>┃<span style=\"font-weight: bold\"> shortest </span>┃<span style=\"font-weight: bold\"> longest </span>┃<span style=\"font-weight: bold\"> min </span>┃<span style=\"font-weight: bold\"> max </span>┃<span style=\"font-weight: bold\"> chars per row </span>┃<span style=\"font-weight: bold\"> words per row </span>┃<span style=\"font-weight: bold\"> total words </span>┃  │\n",
       "│ ┡━━━━━━━━━━━━━━━━━╇━━━━╇━━━━━━╇━━━━━━━━━━╇━━━━━━━━━╇━━━━━╇━━━━━╇━━━━━━━━━━━━━━━╇━━━━━━━━━━━━━━━╇━━━━━━━━━━━━━┩  │\n",
       "│ │ <span style=\"color: #af87ff; text-decoration-color: #af87ff\">time_signature </span> │ <span style=\"color: #008080; text-decoration-color: #008080\"> 0</span> │ <span style=\"color: #008080; text-decoration-color: #008080\">   0</span> │ <span style=\"color: #af87ff; text-decoration-color: #af87ff\">4-4     </span> │ <span style=\"color: #af87ff; text-decoration-color: #af87ff\">4-4    </span> │ <span style=\"color: #af87ff; text-decoration-color: #af87ff\">3-4</span> │ <span style=\"color: #af87ff; text-decoration-color: #af87ff\">6-8</span> │ <span style=\"color: #008080; text-decoration-color: #008080\">            3</span> │ <span style=\"color: #008080; text-decoration-color: #008080\">            1</span> │ <span style=\"color: #008080; text-decoration-color: #008080\">       1090</span> │  │\n",
       "│ └─────────────────┴────┴──────┴──────────┴─────────┴─────┴─────┴───────────────┴───────────────┴─────────────┘  │\n",
       "╰────────────────────────────────────────────────────── End ──────────────────────────────────────────────────────╯\n",
       "</pre>\n"
      ],
      "text/plain": [
       "╭──────────────────────────────────────────────── skimpy summary ─────────────────────────────────────────────────╮\n",
       "│ \u001b[3m         Data Summary         \u001b[0m \u001b[3m      Data Types       \u001b[0m                                                          │\n",
       "│ ┏━━━━━━━━━━━━━━━━━━━┳━━━━━━━━┓ ┏━━━━━━━━━━━━━┳━━━━━━━┓                                                          │\n",
       "│ ┃\u001b[1;36m \u001b[0m\u001b[1;36mDataframe        \u001b[0m\u001b[1;36m \u001b[0m┃\u001b[1;36m \u001b[0m\u001b[1;36mValues\u001b[0m\u001b[1;36m \u001b[0m┃ ┃\u001b[1;36m \u001b[0m\u001b[1;36mColumn Type\u001b[0m\u001b[1;36m \u001b[0m┃\u001b[1;36m \u001b[0m\u001b[1;36mCount\u001b[0m\u001b[1;36m \u001b[0m┃                                                          │\n",
       "│ ┡━━━━━━━━━━━━━━━━━━━╇━━━━━━━━┩ ┡━━━━━━━━━━━━━╇━━━━━━━┩                                                          │\n",
       "│ │ Number of rows    │ 1090   │ │ int64       │ 1     │                                                          │\n",
       "│ │ Number of columns │ 3      │ │ string      │ 1     │                                                          │\n",
       "│ └───────────────────┴────────┘ │ float64     │ 1     │                                                          │\n",
       "│                                └─────────────┴───────┘                                                          │\n",
       "│ \u001b[3m                                                    number                                                    \u001b[0m  │\n",
       "│ ┏━━━━━━━━━━━━━┳━━━━━━┳━━━━━━━━┳━━━━━━━━━┳━━━━━━━━━┳━━━━━━━━━━┳━━━━━━━━━┳━━━━━━━━━┳━━━━━━━━┳━━━━━━━━┳━━━━━━━━━┓  │\n",
       "│ ┃\u001b[1m \u001b[0m\u001b[1mcolumn     \u001b[0m\u001b[1m \u001b[0m┃\u001b[1m \u001b[0m\u001b[1mNA  \u001b[0m\u001b[1m \u001b[0m┃\u001b[1m \u001b[0m\u001b[1mNA %  \u001b[0m\u001b[1m \u001b[0m┃\u001b[1m \u001b[0m\u001b[1mmean   \u001b[0m\u001b[1m \u001b[0m┃\u001b[1m \u001b[0m\u001b[1msd     \u001b[0m\u001b[1m \u001b[0m┃\u001b[1m \u001b[0m\u001b[1mp0      \u001b[0m\u001b[1m \u001b[0m┃\u001b[1m \u001b[0m\u001b[1mp25    \u001b[0m\u001b[1m \u001b[0m┃\u001b[1m \u001b[0m\u001b[1mp50    \u001b[0m\u001b[1m \u001b[0m┃\u001b[1m \u001b[0m\u001b[1mp75   \u001b[0m\u001b[1m \u001b[0m┃\u001b[1m \u001b[0m\u001b[1mp100  \u001b[0m\u001b[1m \u001b[0m┃\u001b[1m \u001b[0m\u001b[1mhist   \u001b[0m\u001b[1m \u001b[0m┃  │\n",
       "│ ┡━━━━━━━━━━━━━╇━━━━━━╇━━━━━━━━╇━━━━━━━━━╇━━━━━━━━━╇━━━━━━━━━━╇━━━━━━━━━╇━━━━━━━━━╇━━━━━━━━╇━━━━━━━━╇━━━━━━━━━┩  │\n",
       "│ │ \u001b[38;5;141mbpm        \u001b[0m │ \u001b[36m   0\u001b[0m │ \u001b[36m     0\u001b[0m │ \u001b[36m  109.6\u001b[0m │ \u001b[36m  24.34\u001b[0m │ \u001b[36m      50\u001b[0m │ \u001b[36m     94\u001b[0m │ \u001b[36m    110\u001b[0m │ \u001b[36m   124\u001b[0m │ \u001b[36m   290\u001b[0m │ \u001b[32m  ▂█▂  \u001b[0m │  │\n",
       "│ │ \u001b[38;5;141mduration   \u001b[0m │ \u001b[36m   0\u001b[0m │ \u001b[36m     0\u001b[0m │ \u001b[36m  35.53\u001b[0m │ \u001b[36m  67.07\u001b[0m │ \u001b[36m  0.6799\u001b[0m │ \u001b[36m  1.975\u001b[0m │ \u001b[36m  3.464\u001b[0m │ \u001b[36m  36.4\u001b[0m │ \u001b[36m 611.6\u001b[0m │ \u001b[32m  █▁   \u001b[0m │  │\n",
       "│ └─────────────┴──────┴────────┴─────────┴─────────┴──────────┴─────────┴─────────┴────────┴────────┴─────────┘  │\n",
       "│ \u001b[3m                                                    string                                                    \u001b[0m  │\n",
       "│ ┏━━━━━━━━━━━━━━━━━┳━━━━┳━━━━━━┳━━━━━━━━━━┳━━━━━━━━━┳━━━━━┳━━━━━┳━━━━━━━━━━━━━━━┳━━━━━━━━━━━━━━━┳━━━━━━━━━━━━━┓  │\n",
       "│ ┃\u001b[1m \u001b[0m\u001b[1mcolumn         \u001b[0m\u001b[1m \u001b[0m┃\u001b[1m \u001b[0m\u001b[1mNA\u001b[0m\u001b[1m \u001b[0m┃\u001b[1m \u001b[0m\u001b[1mNA %\u001b[0m\u001b[1m \u001b[0m┃\u001b[1m \u001b[0m\u001b[1mshortest\u001b[0m\u001b[1m \u001b[0m┃\u001b[1m \u001b[0m\u001b[1mlongest\u001b[0m\u001b[1m \u001b[0m┃\u001b[1m \u001b[0m\u001b[1mmin\u001b[0m\u001b[1m \u001b[0m┃\u001b[1m \u001b[0m\u001b[1mmax\u001b[0m\u001b[1m \u001b[0m┃\u001b[1m \u001b[0m\u001b[1mchars per row\u001b[0m\u001b[1m \u001b[0m┃\u001b[1m \u001b[0m\u001b[1mwords per row\u001b[0m\u001b[1m \u001b[0m┃\u001b[1m \u001b[0m\u001b[1mtotal words\u001b[0m\u001b[1m \u001b[0m┃  │\n",
       "│ ┡━━━━━━━━━━━━━━━━━╇━━━━╇━━━━━━╇━━━━━━━━━━╇━━━━━━━━━╇━━━━━╇━━━━━╇━━━━━━━━━━━━━━━╇━━━━━━━━━━━━━━━╇━━━━━━━━━━━━━┩  │\n",
       "│ │ \u001b[38;5;141mtime_signature \u001b[0m │ \u001b[36m 0\u001b[0m │ \u001b[36m   0\u001b[0m │ \u001b[38;5;141m4-4     \u001b[0m │ \u001b[38;5;141m4-4    \u001b[0m │ \u001b[38;5;141m3-4\u001b[0m │ \u001b[38;5;141m6-8\u001b[0m │ \u001b[36m            3\u001b[0m │ \u001b[36m            1\u001b[0m │ \u001b[36m       1090\u001b[0m │  │\n",
       "│ └─────────────────┴────┴──────┴──────────┴─────────┴─────┴─────┴───────────────┴───────────────┴─────────────┘  │\n",
       "╰────────────────────────────────────────────────────── End ──────────────────────────────────────────────────────╯\n"
      ]
     },
     "metadata": {},
     "output_type": "display_data"
    }
   ],
   "source": [
    "from skimpy import skim\n",
    "\n",
    "df_2 = df[['bpm', 'time_signature', 'duration']]\n",
    "# df_2.describe()\n",
    "\n",
    "report = skim(df_2)\n",
    "report"
   ]
  },
  {
   "cell_type": "code",
   "execution_count": 4,
   "id": "309e008d",
   "metadata": {},
   "outputs": [
    {
     "data": {
      "image/png": "[encoded data removed]",
      "text/plain": [
       "<Figure size 640x480 with 1 Axes>"
      ]
     },
     "metadata": {},
     "output_type": "display_data"
    }
   ],
   "source": [
    "# get the bpm along with the quantity of times is repeated\n",
    "df_2['bpm'].value_counts()\n",
    "\n",
    "import matplotlib.pyplot as plt\n",
    "import seaborn as sns\n",
    "\n",
    "\n",
    "plt = sns.histplot(df_2['bpm'], bins=30)\t\n"
   ]
  },
  {
   "cell_type": "code",
   "execution_count": 5,
   "id": "2331e1c8",
   "metadata": {},
   "outputs": [],
   "source": [
    "\n",
    "from __future__ import annotations\n",
    "from dataclasses import dataclass\n",
    "from pathlib import Path\n",
    "from typing import List, Tuple, Iterable, Dict\n",
    "\n",
    "import numpy as np\n",
    "import librosa\n",
    "import soundfile as sf\n",
    "import mido\n"
   ]
  },
  {
   "cell_type": "code",
   "execution_count": 6,
   "id": "fc627482",
   "metadata": {},
   "outputs": [],
   "source": [
    "TARGET_BPM   = 120                     # BPM al que se normaliza todo\n",
    "TARGET_SR    = 44_100                  # Hz (tasa de muestreo común)\n",
    "N_FFT        = 1024                    # tamaño de ventana\n",
    "HOP_SEC      = 60 / TARGET_BPM / 4     # duración de una semicorchea\n",
    "HOP_SAMPLES  = int(round(TARGET_SR * HOP_SEC))  # 5512 a 120 BPM\n",
    "N_MELS       = 128\n",
    "F_MIN, F_MAX = 20, 20_000              # rango de filtros Mel"
   ]
  },
  {
   "cell_type": "code",
   "execution_count": 7,
   "id": "131942c2",
   "metadata": {},
   "outputs": [],
   "source": [
    "def load_audio(path: Path) -> Tuple[np.ndarray, int]:\n",
    "    \"\"\"Carga WAV y lo re-muestrea a TARGET_SR si es necesario.\"\"\"\n",
    "    y, sr = sf.read(path, dtype=\"float32\")\n",
    "    if sr != TARGET_SR:\n",
    "        y = librosa.resample(y, orig_sr=sr, target_sr=TARGET_SR)\n",
    "    print(f\"Audio loaded from {path} with sample rate {sr} and duration {len(y)/TARGET_SR:.2f} seconds\")\n",
    "    return y, TARGET_SR"
   ]
  },
  {
   "cell_type": "code",
   "execution_count": 8,
   "id": "2a02bbbf",
   "metadata": {},
   "outputs": [],
   "source": [
    "def time_stretch_to_bpm(y: np.ndarray, original_bpm: float) -> np.ndarray:\n",
    "    \"\"\"\n",
    "    Ajusta la duración del audio para que su tempo sea TARGET_BPM.\n",
    "    rate = original_bpm / TARGET_BPM  (librosa.effects.time_stretch >1 acelera)\n",
    "    \"\"\"\n",
    "    rate = original_bpm / TARGET_BPM\n",
    "    print(f\"Time stretching with rate {rate:.2f} to match {TARGET_BPM} BPM\")\n",
    "    return librosa.effects.time_stretch(y, rate=rate)"
   ]
  },
  {
   "cell_type": "code",
   "execution_count": 9,
   "id": "0eb62dd1",
   "metadata": {},
   "outputs": [],
   "source": [
    "def wav_to_log_mel(\n",
    "    y: np.ndarray,\n",
    "    sr: int = TARGET_SR,\n",
    ") -> np.ndarray:\n",
    "    mel = librosa.feature.melspectrogram(\n",
    "        y=y,\n",
    "        sr=sr,\n",
    "        n_fft=N_FFT,\n",
    "        hop_length=HOP_SAMPLES,\n",
    "        n_mels=N_MELS,\n",
    "        fmin=F_MIN,\n",
    "        fmax=F_MAX,\n",
    "        power=2.0,\n",
    "    )\n",
    "    print(f\"Mel spectrogram shape: {mel.shape} (n_mels, T_frames)\")\n",
    "    return librosa.power_to_db(mel, ref=np.max)  # shape: (n_mels, T_frames)\n",
    "\n"
   ]
  },
  {
   "cell_type": "code",
   "execution_count": 10,
   "id": "5b15181e",
   "metadata": {},
   "outputs": [],
   "source": [
    "def bar_frame_bounds(num_frames: int) -> List[Tuple[int, int]]:\n",
    "    \"\"\"\n",
    "    Devuelve pares (inicio, fin) de frames que abarcan cada compás.\n",
    "    Con hop = duración 16-avo, cada compás equivale a 16 frames.\n",
    "    \"\"\"\n",
    "    FRAMES_PER_BAR = 16\n",
    "    bars = []\n",
    "    start = 0\n",
    "    while start + FRAMES_PER_BAR <= num_frames:\n",
    "        bars.append((start, start + FRAMES_PER_BAR))\n",
    "        start += FRAMES_PER_BAR\n",
    "    print(f\"Bar frame bounds: {bars}\")\n",
    "    return bars"
   ]
  },
  {
   "cell_type": "code",
   "execution_count": 11,
   "id": "ce344e12",
   "metadata": {},
   "outputs": [],
   "source": [
    "# ----------------------------------------------------------------------------- \n",
    "# 5. FWOD por compás  (versión mejorada) --------------------------------------\n",
    "# -----------------------------------------------------------------------------\n",
    "from functools import lru_cache\n",
    "import mido\n",
    "import numpy as np\n",
    "from pathlib import Path\n",
    "from typing import List\n",
    "\n",
    "# ─────────────────────────────────────────────────────────────────────────────\n",
    "# 5-A. Helpers internos  (idénticos a tu midi_to_fwod pero encapsulados) \n",
    "# ─────────────────────────────────────────────────────────────────────────────\n",
    "_GM_MAP = {  # (abreviado; incluye solo los que usa la clasificación)\n",
    "    35: (\"low\"), 36: (\"low\"), 41: (\"low\"), 45: (\"low\"), 47: (\"low\"), 64: (\"low\"), 66: (\"low\"),\n",
    "    37: (\"mid\"), 38: (\"mid\"), 39: (\"mid\"), 40: (\"mid\"), 43: (\"mid\"), 48: (\"mid\"), 50: (\"mid\"),\n",
    "    61: (\"mid\"), 62: (\"mid\"), 65: (\"mid\"), 68: (\"mid\"), 77: (\"mid\"),\n",
    "    22: (\"high\"), 26: (\"high\"), 42: (\"high\"), 44: (\"high\"), 46: (\"high\"), 49: (\"high\"),\n",
    "    51: (\"high\"), 52: (\"high\"), 53: (\"high\"), 54: (\"high\"), 55: (\"high\"), 56: (\"high\"),\n",
    "    57: (\"high\"), 58: (\"high\"), 59: (\"high\"), 60: (\"high\"), 63: (\"high\"), 67: (\"high\"),\n",
    "    69: (\"high\"), 70: (\"high\"), 71: (\"high\"), 72: (\"high\"), 73: (\"high\"), 74: (\"high\"),\n",
    "    75: (\"high\"), 76: (\"high\"), 78: (\"high\"), 79: (\"high\"), 80: (\"high\"), 81: (\"high\"),\n",
    "}\n",
    "\n",
    "_WEIGHTS = {\"low\": 3.0, \"mid\": 2.0, \"high\": 1.0}\n",
    "\n",
    "\n",
    "def _flatten_hv_list(hv_list: List[List[tuple]]) -> np.ndarray:\n",
    "    \"\"\"Convierte un patrón de 16 pasos en vector FWOD normalizado (1×16).\"\"\"\n",
    "    fwod = np.zeros(16, dtype=np.float32)\n",
    "\n",
    "    for step_idx, onsets in enumerate(hv_list):\n",
    "        for note, vel in onsets:\n",
    "            cat = _GM_MAP.get(note, \"high\")  # por defecto 'high'\n",
    "            fwod[step_idx] += vel * _WEIGHTS[cat]\n",
    "\n",
    "    max_val = fwod.max() or 1.0\n",
    "    return fwod / max_val\n",
    "\n",
    "\n",
    "def _midi_to_fwod_vectors(path: str) -> List[np.ndarray]:\n",
    "    \"\"\"\n",
    "    Lee un archivo MIDI y devuelve una lista de FWOD (uno por compás de 16 pasos).\n",
    "    Resultado cacheado con LRU para evitar releer el mismo archivo.\n",
    "    \"\"\"\n",
    "    mid = mido.MidiFile(path)\n",
    "    sixteenth = mid.ticks_per_beat / 4\n",
    "    events = []\n",
    "\n",
    "    time_acc = 0\n",
    "    for track in mid.tracks:\n",
    "        for msg in track:\n",
    "            time_acc += msg.time\n",
    "            if msg.type == \"note_on\" and msg.velocity:\n",
    "                if msg.note in _GM_MAP:\n",
    "                    step = int(time_acc / sixteenth + 0.45)\n",
    "                    events.append((step, msg.note, msg.velocity / 127.0))\n",
    "\n",
    "    if not events:\n",
    "        return []\n",
    "\n",
    "    # Número total de pasos → múltiplo más próximo de 16\n",
    "    last_step = max(e[0] for e in events)\n",
    "    total_steps = ((last_step // 16) + 1) * 16\n",
    "\n",
    "    # Lista vacía de pasos\n",
    "    grid = [[] for _ in range(total_steps)]\n",
    "    for step, note, vel in events:\n",
    "        if step < total_steps:\n",
    "            grid[step].append((note, vel))\n",
    "\n",
    "    # Divide en compases de 16 pasos y filtra compases con densidad < 4\n",
    "    fwod_vectors = []\n",
    "    for bar_idx in range(total_steps // 16):\n",
    "        fragment = grid[bar_idx * 16 : (bar_idx + 1) * 16]\n",
    "        if sum(bool(p) for p in fragment) > 4:\n",
    "            fwod_vectors.append(_flatten_hv_list(fragment))\n",
    "\n",
    "    return fwod_vectors\n",
    "\n",
    "\n",
    "# Decoramos con cache para no volver a parsear el mismo archivo\n",
    "_fwod_cache = lru_cache(maxsize=1024)(_midi_to_fwod_vectors)\n",
    "\n",
    "\n",
    "# ─────────────────────────────────────────────────────────────────────────────\n",
    "# 5-B. API llamada por el pipeline\n",
    "# ─────────────────────────────────────────────────────────────────────────────\n",
    "def compute_fwod_vector(midi_path: Path, bar_index: int) -> np.ndarray:\n",
    "    \"\"\"\n",
    "    Devuelve el FWOD (1×16) del compás 'bar_index' de 'midi_path'.\n",
    "    Si el índice está fuera de rango, devuelve un vector de ceros.\n",
    "    \"\"\"\n",
    "    vectors = _fwod_cache(str(midi_path))\n",
    "    if 0 <= bar_index < len(vectors):\n",
    "        return vectors[bar_index]\n",
    "    print(f\"Bar index {bar_index} out of range for {midi_path}\")\n",
    "    return np.zeros(16, dtype=np.float32)\n"
   ]
  },
  {
   "cell_type": "code",
   "execution_count": 12,
   "id": "d1fab112",
   "metadata": {},
   "outputs": [],
   "source": [
    "@dataclass\n",
    "class Example:\n",
    "    mel: np.ndarray      # shape (N_MELS, 16)\n",
    "    fwod: np.ndarray     # shape (16,)\n",
    "    meta: Dict\n",
    "\n",
    "\n",
    "def slice_mel_and_fwod(\n",
    "    mel: np.ndarray,\n",
    "    midi_path: Path,\n",
    "    meta: Dict,\n",
    ") -> Iterable[Example]:\n",
    "    \"\"\"\n",
    "    Genera Example por cada compás; la lista FWOD se carga una sola vez\n",
    "    aprovechando el cache del paso 5.\n",
    "    \"\"\"\n",
    "    bar_bounds = bar_frame_bounds(mel.shape[1])\n",
    "    for bar_idx, (f0, f1) in enumerate(bar_bounds):\n",
    "        yield Example(\n",
    "            mel=mel[:, f0:f1],\n",
    "            fwod=compute_fwod_vector(midi_path, bar_idx),\n",
    "            meta={**meta, \"bar_index\": bar_idx},\n",
    "        )\n",
    "    print(f\"Bar {bar_idx} sliced from {f0} to {f1} frames\")\n"
   ]
  },
  {
   "cell_type": "code",
   "execution_count": 13,
   "id": "6b798b9c",
   "metadata": {},
   "outputs": [],
   "source": [
    "def save_examples_to_npz(examples: List[Example], out_path: Path) -> None:\n",
    "    \"\"\"Guarda todos los ejemplos en un único NPZ.\"\"\"\n",
    "    np.savez_compressed(\n",
    "        out_path,\n",
    "        mel=np.stack([ex.mel for ex in examples]),\n",
    "        fwod=np.stack([ex.fwod for ex in examples]),\n",
    "        meta=np.array([ex.meta for ex in examples], dtype=object),\n",
    "    )\n",
    "    print(f\"Saved {len(examples)} examples to {out_path}\")\n",
    "\n"
   ]
  },
  {
   "cell_type": "code",
   "execution_count": null,
   "id": "b8aea846",
   "metadata": {},
   "outputs": [],
   "source": [
    "def audio_to_train_dataset(\n",
    "    csv_rows: Iterable[Dict],                # iterable con claves: audio_filename, midi_filename, bpm, drummer, style...\n",
    "    root_dir: Path,\n",
    "    out_npz: Path,\n",
    ") -> None:\n",
    "    \"\"\"\n",
    "    Recorre cada fila del CSV y genera un NPZ con (mel, fwod, meta) por compás.\n",
    "    \"\"\"\n",
    "    all_examples: List[Example] = []\n",
    "\n",
    "    for row in csv_rows:\n",
    "        audio_path = root_dir / row[\"audio_filename\"]\n",
    "        midi_path  = root_dir / row[\"midi_filename\"]\n",
    "        bpm        = float(row[\"bpm\"])\n",
    "\n",
    "        # 1-2: cargar + estirar\n",
    "        y, sr = load_audio(audio_path)\n",
    "        y_stretched = time_stretch_to_bpm(y, bpm)\n",
    "\n",
    "        # 3-4-5: Mel\n",
    "        mel_db = wav_to_log_mel(y_stretched, sr)\n",
    "\n",
    "        # 6: cortar y emparejar FWOD\n",
    "        meta_common = {\n",
    "            \"drummer\": row[\"drummer\"],\n",
    "            \"style\": row[\"style\"],\n",
    "            \"session\": row[\"session\"],\n",
    "            \"bpm_orig\": bpm,\n",
    "        }\n",
    "        all_examples.extend(slice_mel_and_fwod(mel_db, midi_path, meta_common))\n",
    "\n",
    "    # 7: guardar\n",
    "    save_examples_to_npz(all_examples, out_npz)\n",
    "    print(f\"✅ Dataset escrito en {out_npz} con {len(all_examples)} ejemplos.\")\n"
   ]
  },
  {
   "cell_type": "code",
   "execution_count": 15,
   "id": "fee29d11",
   "metadata": {},
   "outputs": [
    {
     "name": "stdout",
     "output_type": "stream",
     "text": [
      "Audio loaded from /Users/danielmartinezvillegas/Developer/master-ds/✨TDG/audio_pipeline/data/groove/drummer1/eval_session/1_funk-groove1_138_beat_4-4.wav with sample rate 44100 and duration 27.83 seconds\n",
      "Time stretching with rate 1.15 to match 120 BPM\n"
     ]
    },
    {
     "name": "stderr",
     "output_type": "stream",
     "text": [
      "/Users/danielmartinezvillegas/anaconda3/envs/personal/lib/python3.10/site-packages/librosa/core/spectrum.py:266: UserWarning: n_fft=2048 is too large for input signal of length=2\n",
      "  warnings.warn(\n"
     ]
    },
    {
     "ename": "",
     "evalue": "",
     "output_type": "error",
     "traceback": [
      "\u001b[1;31mCannot execute code, session has been disposed. Please try restarting the Kernel."
     ]
    },
    {
     "ename": "",
     "evalue": "",
     "output_type": "error",
     "traceback": [
      "\u001b[1;31mCannot execute code, session has been disposed. Please try restarting the Kernel. \n",
      "\u001b[1;31mView Jupyter <a href='command:jupyter.viewOutput'>log</a> for further details."
     ]
    }
   ],
   "source": [
    "rows = pd.read_csv(\"/Users/danielmartinezvillegas/Developer/master-ds/✨TDG/audio_pipeline/data/info_clean.csv\").to_dict(orient=\"records\")\n",
    "audio_to_train_dataset(rows, Path(\"/Users/danielmartinezvillegas/Developer/master-ds/✨TDG/audio_pipeline/data/groove\"), Path(\"/Users/danielmartinezvillegas/Developer/master-ds/✨TDG/audio_pipeline/data/groove_train.npz\"))"
   ]
  }
 ],
 "metadata": {
  "kernelspec": {
   "display_name": "personal",
   "language": "python",
   "name": "python3"
  },
  "language_info": {
   "codemirror_mode": {
    "name": "ipython",
    "version": 3
   },
   "file_extension": ".py",
   "mimetype": "text/x-python",
   "name": "python",
   "nbconvert_exporter": "python",
   "pygments_lexer": "ipython3",
   "version": "3.10.13"
  }
 },
 "nbformat": 4,
 "nbformat_minor": 5
}
